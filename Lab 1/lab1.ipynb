{
 "cells": [
  {
   "cell_type": "markdown",
   "metadata": {},
   "source": [
    "# CE888: Data Science and Decision Making Lab 1\n"
   ]
  },
  {
   "cell_type": "markdown",
   "metadata": {},
   "source": [
    "Over today's practice you'll learn:\n",
    "* to use JuPyter notebooks to quickly prototype code and show results\n",
    "* the numerical Python library\n",
    "\n",
    "This lab is divided in two parts. In each of them, you will have to fill in the gaps following the instructions given.\n",
    "The prompts for you to write code will look like this:"
   ]
  },
  {
   "cell_type": "code",
   "execution_count": null,
   "metadata": {},
   "outputs": [],
   "source": [
    "#<------------INSERT CODE HERE------------>"
   ]
  },
  {
   "cell_type": "markdown",
   "metadata": {},
   "source": [
    "This might involve more than one line of code from you!\n",
    "\n",
    "Do **not** delete code from the notebook.\n",
    "\n",
    "Let's start!"
   ]
  },
  {
   "cell_type": "markdown",
   "metadata": {},
   "source": [
    "## Part 1\n",
    "\n",
    "In the first part of the lab we're going to check your Python skills and, in particular, we will ask you to create some functions to operate on vectors and matrices.\n",
    "\n"
   ]
  },
  {
   "cell_type": "markdown",
   "metadata": {},
   "source": [
    "### Operations with vectors"
   ]
  },
  {
   "cell_type": "code",
   "execution_count": 25,
   "metadata": {},
   "outputs": [
    {
     "name": "stdout",
     "output_type": "stream",
     "text": [
      "[1, 2, 4, 78, 93]\n",
      "The vector has 5 elements\n"
     ]
    }
   ],
   "source": [
    "# Let's create a vector. We can do this as a Python built-in type: the list\n",
    "vector1 = [1, 2, 4, 78, 93] # we declare the vector as a list of elements\n",
    "\n",
    "print(vector1)\n",
    "print(\"The vector has %d elements\" % len(vector1))"
   ]
  },
  {
   "cell_type": "code",
   "execution_count": 16,
   "metadata": {},
   "outputs": [],
   "source": [
    "# Let's add a number to every element of the vector.\n",
    "## Exercise: create a function that, given a vector and a number,\n",
    "## returns the addition of that number to each element of the vector\n",
    "def vector_plus_num(vector, number):\n",
    "    #<------------INSERT CODE HERE------------>\n",
    "    for i in range(0, len(vector1)):\n",
    "        vector[i] += number # Add the number to each element in turn\n",
    "    return vector"
   ]
  },
  {
   "cell_type": "code",
   "execution_count": 17,
   "metadata": {},
   "outputs": [
    {
     "name": "stdout",
     "output_type": "stream",
     "text": [
      "[6, 7, 9, 83, 98]\n",
      "[-27, -26, -24, 50, 65]\n"
     ]
    }
   ],
   "source": [
    "# Let's test your function:\n",
    "print(vector_plus_num(vector1, 5))\n",
    "print(vector_plus_num(vector1, -33))"
   ]
  },
  {
   "cell_type": "markdown",
   "metadata": {},
   "source": [
    "What if we now wanted to mutiply a number and a vector? **Do not do it**, just think about what you'd need!"
   ]
  },
  {
   "cell_type": "markdown",
   "metadata": {},
   "source": [
    "And what if we want to calculate the mean value of your vector?"
   ]
  },
  {
   "cell_type": "code",
   "execution_count": 18,
   "metadata": {},
   "outputs": [],
   "source": [
    "## Exercise: create a function that, given a vector,\n",
    "## returns the mean value of its elements.\n",
    "def vector_mean(vector):\n",
    "    #<------------INSERT CODE HERE------------>\n",
    "    l = len(vector)\n",
    "    mu = 0\n",
    "    for i in range (0, l):\n",
    "        mu = mu + vector[i] # Sum each element in turn\n",
    "        \n",
    "    mu = mu / l # Finally, divide by the number of elements (quicker than dividing after each element)\n",
    "    return mu"
   ]
  },
  {
   "cell_type": "code",
   "execution_count": 25,
   "metadata": {},
   "outputs": [
    {
     "name": "stdout",
     "output_type": "stream",
     "text": [
      "The average is: 35.6.\n"
     ]
    }
   ],
   "source": [
    "# Now test your function:\n",
    "print(f\"The average is: {vector_mean(vector1)}.\")\n",
    "#<------------INSERT CODE HERE------------>"
   ]
  },
  {
   "cell_type": "markdown",
   "metadata": {},
   "source": [
    "We will now work on operations between pairs of vectors."
   ]
  },
  {
   "cell_type": "code",
   "execution_count": 26,
   "metadata": {},
   "outputs": [],
   "source": [
    "# Now let's create a new vector, called vector2, of the same length as vector1.\n",
    "# We will then look at operations with multiple vectors, \n",
    "# such as adding and subtracting them, and vector multiplications.\n",
    "vector2 = [-1 for i in range(0, len(vector1))]#<------------INSERT CODE HERE------------>\n",
    "#print(vector2) # Debug\n",
    "assert len(vector1) == len(vector2), \"The vectors are not of the same length\""
   ]
  },
  {
   "cell_type": "code",
   "execution_count": 53,
   "metadata": {},
   "outputs": [],
   "source": [
    "# Create a function that returns new vector of the same length as vector1 and vector2, \n",
    "# for which each element is the sum of the corresponding elements from vector1 and vector2.\n",
    "\n",
    "# Feel free to create a function to do this!\n",
    "\n",
    "def add_two_vectors(vec1, vec2):\n",
    "    #<------------INSERT CODE HERE------------>\n",
    "    assert len(vec1) == len(vec2), \"The vectors are not of the same length\"\n",
    "    # Assuming both vectors are same length (assert catch-all from above), use length of first as reference\n",
    "    sumVec = []\n",
    "    for i in range(0, len(vec1)):\n",
    "        sumVec.append(vec1[i] + vec2[i])\n",
    "    return sumVec"
   ]
  },
  {
   "cell_type": "code",
   "execution_count": 55,
   "metadata": {
    "scrolled": true
   },
   "outputs": [
    {
     "name": "stdout",
     "output_type": "stream",
     "text": [
      "[0, 1, 3, 77, 92]\n"
     ]
    },
    {
     "ename": "AssertionError",
     "evalue": "The vectors are not of the same length",
     "output_type": "error",
     "traceback": [
      "\u001b[1;31m---------------------------------------------------------------------------\u001b[0m",
      "\u001b[1;31mAssertionError\u001b[0m                            Traceback (most recent call last)",
      "\u001b[1;32m<ipython-input-55-f6e743abd3ee>\u001b[0m in \u001b[0;36m<module>\u001b[1;34m\u001b[0m\n\u001b[0;32m      1\u001b[0m \u001b[1;31m# Let's test your function:\u001b[0m\u001b[1;33m\u001b[0m\u001b[1;33m\u001b[0m\u001b[1;33m\u001b[0m\u001b[0m\n\u001b[0;32m      2\u001b[0m \u001b[0mprint\u001b[0m\u001b[1;33m(\u001b[0m\u001b[0madd_two_vectors\u001b[0m\u001b[1;33m(\u001b[0m\u001b[0mvector1\u001b[0m\u001b[1;33m,\u001b[0m \u001b[0mvector2\u001b[0m\u001b[1;33m)\u001b[0m\u001b[1;33m)\u001b[0m\u001b[1;33m\u001b[0m\u001b[1;33m\u001b[0m\u001b[0m\n\u001b[1;32m----> 3\u001b[1;33m \u001b[0mprint\u001b[0m\u001b[1;33m(\u001b[0m\u001b[0madd_two_vectors\u001b[0m\u001b[1;33m(\u001b[0m\u001b[0mvector1\u001b[0m\u001b[1;33m,\u001b[0m \u001b[1;33m[\u001b[0m\u001b[1;36m1\u001b[0m\u001b[1;33m,\u001b[0m \u001b[1;36m2\u001b[0m\u001b[1;33m,\u001b[0m \u001b[1;36m3\u001b[0m\u001b[1;33m]\u001b[0m\u001b[1;33m)\u001b[0m\u001b[1;33m)\u001b[0m\u001b[1;33m\u001b[0m\u001b[1;33m\u001b[0m\u001b[0m\n\u001b[0m\u001b[0;32m      4\u001b[0m \u001b[1;31m# If the second print resulted in an error, don't worry about it for now!\u001b[0m\u001b[1;33m\u001b[0m\u001b[1;33m\u001b[0m\u001b[1;33m\u001b[0m\u001b[0m\n",
      "\u001b[1;32m<ipython-input-53-80f65f6b533e>\u001b[0m in \u001b[0;36madd_two_vectors\u001b[1;34m(vec1, vec2)\u001b[0m\n\u001b[0;32m      6\u001b[0m \u001b[1;32mdef\u001b[0m \u001b[0madd_two_vectors\u001b[0m\u001b[1;33m(\u001b[0m\u001b[0mvec1\u001b[0m\u001b[1;33m,\u001b[0m \u001b[0mvec2\u001b[0m\u001b[1;33m)\u001b[0m\u001b[1;33m:\u001b[0m\u001b[1;33m\u001b[0m\u001b[1;33m\u001b[0m\u001b[0m\n\u001b[0;32m      7\u001b[0m     \u001b[1;31m#<------------INSERT CODE HERE------------>\u001b[0m\u001b[1;33m\u001b[0m\u001b[1;33m\u001b[0m\u001b[1;33m\u001b[0m\u001b[0m\n\u001b[1;32m----> 8\u001b[1;33m     \u001b[1;32massert\u001b[0m \u001b[0mlen\u001b[0m\u001b[1;33m(\u001b[0m\u001b[0mvec1\u001b[0m\u001b[1;33m)\u001b[0m \u001b[1;33m==\u001b[0m \u001b[0mlen\u001b[0m\u001b[1;33m(\u001b[0m\u001b[0mvec2\u001b[0m\u001b[1;33m)\u001b[0m\u001b[1;33m,\u001b[0m \u001b[1;34m\"The vectors are not of the same length\"\u001b[0m\u001b[1;33m\u001b[0m\u001b[1;33m\u001b[0m\u001b[0m\n\u001b[0m\u001b[0;32m      9\u001b[0m     \u001b[1;31m# Assuming both vectors are same length (assert catch-all from above), use length of first as reference\u001b[0m\u001b[1;33m\u001b[0m\u001b[1;33m\u001b[0m\u001b[1;33m\u001b[0m\u001b[0m\n\u001b[0;32m     10\u001b[0m     \u001b[0msumVec\u001b[0m \u001b[1;33m=\u001b[0m \u001b[1;33m[\u001b[0m\u001b[1;33m]\u001b[0m\u001b[1;33m\u001b[0m\u001b[1;33m\u001b[0m\u001b[0m\n",
      "\u001b[1;31mAssertionError\u001b[0m: The vectors are not of the same length"
     ]
    }
   ],
   "source": [
    "# Let's test your function:\n",
    "print(add_two_vectors(vector1, vector2))\n",
    "print(add_two_vectors(vector1, [1, 2, 3]))\n",
    "# If the second print resulted in an error, don't worry about it for now!"
   ]
  },
  {
   "cell_type": "markdown",
   "metadata": {},
   "source": [
    "How about the multiplication of vectors?\n",
    "There are two types of vector multiplications:\n",
    "* The dot product (or scalar product) takes two vectors and returns a scalar.\n",
    "* The cross product (or vector product) takes two vectors and returns another vector."
   ]
  },
  {
   "cell_type": "markdown",
   "metadata": {},
   "source": [
    "Now let's create a function that returns the scalar product of two vectors.\n",
    "\n",
    "This can be done by multiplying pairs of elements and adding the result:\n",
    "\n",
    "A = [A1, A2, A3, ..., An]\n",
    "\n",
    "B = [B1, B2, B3, ..., Bn]\n",
    "\n",
    "A · B = A1·B1 + A2·B2 + ... An·Bn"
   ]
  },
  {
   "cell_type": "code",
   "execution_count": 56,
   "metadata": {},
   "outputs": [],
   "source": [
    "def scalar_product(v1, v2):\n",
    "    #<------------INSERT CODE HERE------------>\n",
    "    # Catch if unequal vectors entered\n",
    "    assert len(v1) == len(v2), \"The vectors are not of the same length\"\n",
    "    # If ok, perform the calc\n",
    "    scalarProduct = 0\n",
    "    l = len(v1)\n",
    "    for i in range(0, l):\n",
    "        scalarProduct+= v1[i]*v2[i]\n",
    "    return scalarProduct"
   ]
  },
  {
   "cell_type": "code",
   "execution_count": 57,
   "metadata": {},
   "outputs": [
    {
     "name": "stdout",
     "output_type": "stream",
     "text": [
      "The scalar product is: -178.\n"
     ]
    }
   ],
   "source": [
    "# Test your function\n",
    "print(f\"The scalar product is: {scalar_product(vector1, vector2)}.\")\n",
    "#<------------INSERT CODE HERE------------>"
   ]
  },
  {
   "cell_type": "markdown",
   "metadata": {},
   "source": [
    "### Operations with matrices\n",
    "\n",
    "Again, there are multiple things we can do with matrices. For example, adding/subtracting/multiplying a number to each element of a matrix and matrix multiplication.\n",
    "\n",
    "We're going to attempt the last one only."
   ]
  },
  {
   "cell_type": "code",
   "execution_count": 19,
   "metadata": {},
   "outputs": [
    {
     "name": "stdout",
     "output_type": "stream",
     "text": [
      "[60, 66, 60, 66]\n"
     ]
    }
   ],
   "source": [
    "# Create a function that receives two matrices as input and returns the matrix multiplication of the two\n",
    "# If you don't know how to multiply two matrices, check:\n",
    "# https://en.wikipedia.org/wiki/Matrix_multiplication#Definition\n",
    "\n",
    "def matrix_multiplication(matrix1, matrix2):\n",
    "    #Using matrix A and matrix D, 3 x 2, 2 x 3\n",
    "    multipl_result = []\n",
    "    #<------------INSERT CODE HERE------------>\n",
    "    # Test if matrix1[x] == matrix2[y]\n",
    "    assert len(matrix1[0]) == len(matrix2), \"Matrix dimensions don't match!\"\n",
    "    # Multiply each row item of matrix A by column item of matrix B\n",
    "    # Now assume that m1 rows = m2 cols and vice versa\n",
    "    rows = len(matrix1) # 2\n",
    "    cols = len(matrix2) # 3\n",
    "    # Process each row of matrix 1..\n",
    "    for i in range(0, rows):\n",
    "        # ..by each column in matrix 2\n",
    "        for j in range(0, rows):\n",
    "            summ = 0\n",
    "            # Third inner loop as we need to sum each column of matrix B for each row of matrix A\n",
    "            # This inner loop just sums each row element * col element\n",
    "            for k in range(0, cols):\n",
    "                summ = summ + matrix1[i][k]*matrix2[k][j]\n",
    "                #print(f\"Multiplying {matrix1[i][k]} by {matrix2[k][j]}\")\n",
    "            #print(\"Appending\")\n",
    "            multipl_result.append(summ)\n",
    "    return multipl_result\n",
    "# matrix1 [1,2,3]\n",
    "#         [1,2,3]\n",
    "\n",
    "# matrix2 [10,11]\n",
    "#         [10,11]\n",
    "#         [10,11]\n",
    "print(matrix_multiplication(matrixA, matrixD))"
   ]
  },
  {
   "cell_type": "code",
   "execution_count": 2,
   "metadata": {},
   "outputs": [],
   "source": [
    "# And let's test your function:\n",
    "# NOTE: some of the tests below will give errors. Don't worry about them!\n",
    "matrixA = [[1, 2, 3], [1, 2, 3]]\n",
    "matrixB = [[5, 6, 7], [5, 6, 7], [5, 6, 7]]\n",
    "matrixC = [[8, 9], [8, 9], [8, 9], [8, 9]]\n",
    "matrixD = [[10, 11], [10, 11], [10, 11]]"
   ]
  },
  {
   "cell_type": "code",
   "execution_count": null,
   "metadata": {},
   "outputs": [],
   "source": [
    "print(matrix_multiplication(matrixA, matrixB))"
   ]
  },
  {
   "cell_type": "code",
   "execution_count": null,
   "metadata": {},
   "outputs": [],
   "source": [
    "print(matrix_multiplication(matrixA, matrixC))"
   ]
  },
  {
   "cell_type": "code",
   "execution_count": 68,
   "metadata": {},
   "outputs": [
    {
     "name": "stdout",
     "output_type": "stream",
     "text": [
      "[[30], [33]]\n"
     ]
    }
   ],
   "source": [
    "print(matrix_multiplication(matrixA, matrixD))"
   ]
  },
  {
   "cell_type": "markdown",
   "metadata": {},
   "source": [
    "Hopefully this has convinced you that operating with vectors and matrices like this is not the best way.\n",
    "Now we will turn to the second part of this lab, in which you will be introduced to the numerical Python library, *numpy*."
   ]
  },
  {
   "cell_type": "markdown",
   "metadata": {},
   "source": [
    "## Part 2: Numpy\n"
   ]
  },
  {
   "cell_type": "markdown",
   "metadata": {},
   "source": [
    "Numpy has a built-in type called the *ndarray*. "
   ]
  },
  {
   "cell_type": "code",
   "execution_count": 27,
   "metadata": {},
   "outputs": [],
   "source": [
    "import numpy as np # Importing convention for Numpy"
   ]
  },
  {
   "cell_type": "markdown",
   "metadata": {},
   "source": [
    "#### Creating and manipulating arrays"
   ]
  },
  {
   "cell_type": "code",
   "execution_count": 28,
   "metadata": {},
   "outputs": [
    {
     "name": "stdout",
     "output_type": "stream",
     "text": [
      "[1. 2. 3.]\n",
      "float32\n",
      "[1.+2.j 3.-4.j]\n",
      "complex64\n",
      "[False  True  True]\n",
      "bool\n",
      "[[1 2 3]\n",
      " [1 2 3]]\n",
      "int32\n",
      "(2, 3)\n",
      "[-1 -1 -1 -1 -1]\n",
      "int32\n",
      "(5,)\n"
     ]
    }
   ],
   "source": [
    "# Create arrays with a specified data type\n",
    "\n",
    "arr = np.array([1, 2, 3], dtype=np.float32)\n",
    "print(arr)\n",
    "print(arr.dtype)\n",
    "\n",
    "arr = np.array([1+2j, 3-4j], dtype=np.complex64)  # an array of complex numbers\n",
    "print(arr)\n",
    "print(arr.dtype)\n",
    "\n",
    "arr = np.array([0, 1, 1], dtype=np.bool)  # an array of True/False values\n",
    "print(arr)\n",
    "print(arr.dtype)\n",
    "\n",
    "# We can also create arrays from the vectors and matrices we had before.\n",
    "arr = np.array(matrixA)\n",
    "print(arr)\n",
    "print(arr.dtype)\n",
    "print(arr.shape)\n",
    "\n",
    "arr = np.array(vector2)\n",
    "print(arr)\n",
    "print(arr.dtype)\n",
    "print(arr.shape)\n"
   ]
  },
  {
   "cell_type": "code",
   "execution_count": 29,
   "metadata": {},
   "outputs": [
    {
     "name": "stdout",
     "output_type": "stream",
     "text": [
      "[0 1 2 3 4 5 6 7 8 9]\n",
      "shape: (10,)\n",
      "dtype: int32\n",
      "dim: 1\n",
      "itemsize: 4\n"
     ]
    }
   ],
   "source": [
    "arr_range2 = np.arange(10)\n",
    "print(arr_range2)\n",
    "\n",
    "# Retrieving information on the array\n",
    "print(\"shape:\", arr_range2.shape)\n",
    "print(\"dtype:\", arr_range2.dtype)\n",
    "print(\"dim:\", arr_range2.ndim)\n",
    "print(\"itemsize:\", arr_range2.itemsize)"
   ]
  },
  {
   "cell_type": "code",
   "execution_count": 30,
   "metadata": {},
   "outputs": [
    {
     "name": "stdout",
     "output_type": "stream",
     "text": [
      "[ 0  5 10 15 20 25 30 35 40 45 50 55 60 65 70 75 80 85 90 95]\n",
      "[ 0.          0.52631579  1.05263158  1.57894737  2.10526316  2.63157895\n",
      "  3.15789474  3.68421053  4.21052632  4.73684211  5.26315789  5.78947368\n",
      "  6.31578947  6.84210526  7.36842105  7.89473684  8.42105263  8.94736842\n",
      "  9.47368421 10.        ]\n"
     ]
    }
   ],
   "source": [
    "# We can use the np.arange function to create a range of values:\n",
    "arr = np.arange(0, 100, 5) #np.arange(start, stop, pace)\n",
    "print(arr)\n",
    "# Note: is the last value (100) included?\n",
    "\n",
    "# Similarly, we can use np.linspace:\n",
    "# np.linspace(start, stop, num_of_elements, endpoint=True) \n",
    "arr = np.linspace(0, 10, 20)\n",
    "print(arr)\n",
    "# Note: is the last value (10) included now?"
   ]
  },
  {
   "cell_type": "code",
   "execution_count": 31,
   "metadata": {},
   "outputs": [
    {
     "name": "stdout",
     "output_type": "stream",
     "text": [
      "[[1.5 2.  3. ]\n",
      " [4.  5.  6. ]]\n",
      "(2, 3)\n"
     ]
    }
   ],
   "source": [
    "arr_2d = np.array([(1.5, 2, 3), (4, 5, 6)]) # creating an array from a list of tuples\n",
    "print(arr_2d)\n",
    "print(arr_2d.shape)"
   ]
  },
  {
   "cell_type": "code",
   "execution_count": 32,
   "metadata": {},
   "outputs": [
    {
     "name": "stdout",
     "output_type": "stream",
     "text": [
      "arr_2d[0,0] : 1.5\n",
      "arr_2d[0,:] :  [1.5 2.  3. ]\n",
      "arr_2d[:,0] : [1.5 4. ]\n",
      "[3. 4. 5. 6.]\n"
     ]
    }
   ],
   "source": [
    "# Slicing (i.e., accessing specific elements of the array)\n",
    "\n",
    "print(\"arr_2d[0,0] :\", arr_2d[0, 0])\n",
    "print(\"arr_2d[0,:] : \", arr_2d[0, :])\n",
    "print(\"arr_2d[:,0] :\", arr_2d[:, 0])\n",
    "\n",
    "print(arr_2d[arr_2d > 2])"
   ]
  },
  {
   "cell_type": "code",
   "execution_count": 39,
   "metadata": {},
   "outputs": [
    {
     "name": "stdout",
     "output_type": "stream",
     "text": [
      "[[0. 0. 0. 0. 0. 0. 0. 0. 0. 0.]\n",
      " [0. 0. 0. 0. 0. 0. 0. 0. 0. 0.]\n",
      " [0. 0. 0. 0. 0. 0. 0. 0. 0. 0.]\n",
      " [0. 0. 0. 0. 0. 0. 0. 0. 0. 0.]\n",
      " [0. 0. 0. 0. 0. 0. 0. 0. 0. 0.]\n",
      " [0. 0. 0. 0. 0. 0. 0. 0. 0. 0.]\n",
      " [0. 0. 0. 0. 0. 0. 0. 0. 0. 0.]\n",
      " [0. 0. 0. 0. 0. 0. 0. 0. 0. 0.]\n",
      " [0. 0. 0. 0. 0. 0. 0. 0. 0. 0.]\n",
      " [0. 0. 0. 0. 0. 0. 0. 0. 0. 0.]]\n",
      "(10, 10)\n",
      "[[1. 1. 1. 1.]\n",
      " [1. 1. 1. 1.]\n",
      " [1. 1. 1. 1.]\n",
      " [1. 1. 1. 1.]]\n",
      "(4, 4)\n",
      "[[1. 1. 1. 1. 1. 1. 1. 1.]\n",
      " [1. 1. 1. 1. 1. 1. 1. 1.]]\n",
      "(4, 4)\n"
     ]
    }
   ],
   "source": [
    "# Other types of arrays\n",
    "\n",
    "zeros = np.zeros((10, 10))\n",
    "print(zeros)\n",
    "# print the shape of zeros\n",
    "print(zeros.shape)\n",
    "#<------------INSERT CODE HERE------------>\n",
    "\n",
    "ones = np.ones((4, 4))\n",
    "print(ones)\n",
    "# print the shape of ones\n",
    "print(ones.shape)\n",
    "#<------------INSERT CODE HERE------------>\n",
    "\n",
    "print(ones.reshape(2, 8))\n",
    "# print the shape of ones\n",
    "ones.reshape(2, 8) # WHY?\n",
    "print(ones.shape)\n",
    "#<------------INSERT CODE HERE------------>"
   ]
  },
  {
   "cell_type": "code",
   "execution_count": 42,
   "metadata": {},
   "outputs": [
    {
     "name": "stdout",
     "output_type": "stream",
     "text": [
      "[[-8.46754054e-01  1.99728286e+00 -6.76090350e-01  7.73681938e-01\n",
      "  -6.75443368e-01 -1.30781981e+00 -1.61489433e-01  6.42669465e-01\n",
      "  -8.51336573e-01 -2.25904018e+00  2.36413586e+00  1.22494935e+00\n",
      "   5.91908981e-01  1.17425019e-01 -6.32818559e-01 -3.59599789e-01\n",
      "   3.96771079e-01  5.53662443e-01 -4.32403481e-01 -1.99037101e-01\n",
      "   6.47748883e-02  7.32032845e-01 -1.26147526e+00 -1.04529261e-01\n",
      "  -8.05607644e-01  2.22394751e+00  1.45279381e+00  7.06126532e-02\n",
      "   1.52161455e+00  1.01944273e+00  1.02368538e+00  2.19492522e+00\n",
      "   5.05462159e-01  5.06236441e-01 -1.12783081e+00  6.82180766e-01\n",
      "  -1.37627495e+00 -9.24027377e-01  2.43823207e-01 -3.25192243e+00\n",
      "  -7.69749506e-01 -8.49860280e-01  6.41034407e-01 -5.50861247e-01\n",
      "   2.27248807e+00 -1.56662123e+00  8.12332320e-01 -2.09175168e+00\n",
      "  -7.25736942e-01 -4.81089417e-01 -1.70628290e-01 -5.85176456e-01\n",
      "   7.72129373e-01  6.36595057e-01  7.73031584e-01  1.21961977e+00\n",
      "  -7.39989744e-01  4.47468118e-01 -4.01343795e-01  3.98906510e-01\n",
      "  -2.23704664e-01  2.46650907e-01 -4.78359216e-02 -1.17500153e+00\n",
      "   9.07536462e-01 -5.04216983e-01  6.56486126e-02  1.45877444e+00\n",
      "  -1.35360200e+00 -2.69109324e+00  2.04020960e-01  4.42311462e-01\n",
      "  -9.12992371e-01  4.56046511e-01 -1.05435127e+00  1.07065820e+00\n",
      "   4.71693726e-01  1.10774592e+00  7.36261784e-01 -5.90797354e-02\n",
      "   3.41686581e-01 -2.09415621e+00 -1.12816910e+00 -4.40862716e-01\n",
      "  -3.40723639e-01 -3.29246996e-01 -1.73348302e+00 -8.99693497e-01\n",
      "   9.37870106e-01  1.04194693e+00  8.32622346e-01 -3.39037767e-01\n",
      "   1.34134474e+00 -4.93181521e-01 -5.03562808e-01 -1.56188488e+00\n",
      "   1.15559617e+00  8.26914122e-01  2.39194496e+00 -7.77407700e-02\n",
      "   1.22446787e+00 -9.95838645e-01  9.66748599e-01  2.01465803e-01\n",
      "   5.15197820e-01  6.46292637e-01 -5.21489211e-01 -7.95469800e-01\n",
      "   4.37941553e-01 -5.52212671e-02  4.51880872e-01  1.56526496e+00\n",
      "   2.55895257e-01 -4.09161198e-01 -1.58178236e+00  7.50911685e-01\n",
      "  -7.56871121e-01  1.38668413e+00 -5.00188846e-01  6.78886095e-01\n",
      "   2.36548836e+00  1.01786064e+00  1.57742579e+00  7.68947225e-02\n",
      "   7.39983387e-01  1.86150918e+00 -1.71600901e+00  5.14452667e-01\n",
      "   2.17373228e-01 -9.43404285e-02 -5.01904864e-01 -8.08506855e-01\n",
      "   1.90200039e+00  1.54151691e+00  8.01384045e-01 -2.07333777e-01\n",
      "  -1.43469720e-01  1.17188442e+00  5.19446619e-01 -2.64305219e-01\n",
      "   5.97979562e-01  6.02999027e-01 -6.94593201e-01  1.85409376e+00\n",
      "   1.37758024e+00  4.13661753e-02 -6.61998478e-01  1.02315827e+00\n",
      "   1.27886114e+00  1.40413294e+00 -1.24104029e+00  2.80940568e-01\n",
      "   5.60130093e-01  5.07125748e-01  1.81734398e+00 -1.91096221e-01\n",
      "  -1.97108118e+00 -9.28679917e-01 -9.84868983e-01  4.15664037e-01\n",
      "   7.15026055e-01 -3.33489037e-01 -1.63565484e-01 -1.00298597e+00\n",
      "  -1.82251884e+00 -5.82577184e-01 -4.80251695e-01 -1.66695622e+00\n",
      "  -1.22345215e+00 -4.37806430e-02  3.29641218e-01  4.49733027e-02\n",
      "   1.63319023e+00  5.96169784e-01  3.71546537e+00 -1.13910795e+00\n",
      "  -6.58659403e-01 -1.18840337e+00  6.56715206e-01 -3.40145572e-01\n",
      "  -3.71592648e-01 -1.04504923e-01  7.31870182e-02  3.00142175e-01\n",
      "   9.83485257e-01 -6.10251981e-01 -2.41500671e+00  1.26993768e+00\n",
      "   1.53771932e+00  1.40205569e+00 -4.08912961e-01 -3.70362329e-01\n",
      "   1.28919531e+00  1.07150225e-01 -1.18413836e+00  1.67835685e+00\n",
      "   2.28989764e+00 -2.98408411e-01 -2.21237678e-01 -1.34923298e+00\n",
      "   1.80997408e+00  1.34378976e-01 -1.16324030e-01 -8.61304946e-01\n",
      "  -4.88858113e-01  2.34208243e-01 -9.30064059e-01  1.48470895e+00\n",
      "   1.85036125e+00  2.59281410e-02  1.16186871e+00  7.52245318e-05\n",
      "  -2.28552998e-01  1.73798458e+00  1.51437848e+00 -3.52896136e-01\n",
      "  -1.90858487e-01 -1.86654162e+00 -3.64345729e-01 -8.51319198e-01\n",
      "   9.26459511e-01  2.09015335e+00 -1.26935495e+00  1.66095266e-01\n",
      "   1.99730575e-01  6.80516149e-01  1.25135619e+00  1.07845176e+00\n",
      "   7.60671214e-01  5.10072974e-01 -1.82241811e+00  1.87234219e-01\n",
      "  -1.12053842e+00  1.11312135e+00 -9.17090325e-01  2.60880790e-01\n",
      "  -4.63941872e-02 -1.09408139e+00  5.29006483e-01  2.05680878e+00\n",
      "  -3.97719079e-01 -7.09284445e-01  7.09060714e-01  1.39635163e+00\n",
      "  -8.87643672e-02 -2.17254685e+00 -9.45355539e-01  1.53118181e-01\n",
      "   6.61905643e-01 -1.09925864e-01 -7.77637563e-01 -2.84457647e-01\n",
      "  -2.86695669e-02 -1.14020927e+00  5.64076352e-02  6.26463340e-01\n",
      "  -1.10731561e+00 -1.12195095e+00 -1.32881919e+00 -6.29109461e-01\n",
      "  -1.92507251e-01  9.09405622e-02 -1.64742917e-01 -2.03084085e+00\n",
      "  -2.40618038e-01  3.89150429e-01 -4.15456114e-01 -3.97141711e-01\n",
      "  -8.25054117e-01 -9.73631340e-01 -1.29116114e-01 -2.52774406e+00\n",
      "  -1.21948731e+00  1.53699668e+00  6.08927723e-01  3.19685639e-01\n",
      "   1.09398658e+00  2.14857917e+00  9.28134637e-01 -7.57360251e-01\n",
      "  -9.38603952e-01 -1.82407550e-01 -2.04537450e+00 -5.32977492e-01\n",
      "   7.82966876e-01  8.71140688e-01 -7.04989060e-01 -5.02046660e-01\n",
      "  -5.58352602e-01 -4.68191937e-03  1.25494511e+00  3.58946272e-01\n",
      "  -3.54291171e-01 -6.06135297e-01  3.33426732e-01  8.15926586e-01\n",
      "   8.01419309e-01 -7.46214120e-01 -2.63303283e-01 -1.07305479e-01\n",
      "  -4.01302768e-01  8.52611624e-01  3.69618467e-02  3.83880176e-01\n",
      "   2.47762976e-01 -3.37344905e-01  5.62173572e-01 -1.46460938e+00\n",
      "  -7.21746275e-01 -2.30907828e+00 -7.27468376e-01  1.36450939e+00\n",
      "  -3.39223632e-01 -6.04677180e-01  1.66987955e-01  5.67932586e-01\n",
      "  -6.38291874e-01 -4.39947231e-01 -7.72188637e-02  4.78219828e-01\n",
      "   9.92963633e-01  2.59459760e-01  9.60524720e-01  7.98940419e-01\n",
      "  -7.01865266e-01 -3.00631209e-02  3.83444454e-01 -4.64859799e-01\n",
      "   1.99359930e-01  2.21151342e+00 -1.62046622e+00  2.57572737e-02\n",
      "  -4.40338392e-01  2.20612032e+00 -1.98850960e+00  2.52307068e+00\n",
      "   4.82982990e-01 -1.67308802e+00 -4.87289967e-02 -7.59381259e-01\n",
      "  -4.61837110e-01  1.68795703e+00 -9.94839190e-02 -4.19782594e-01\n",
      "  -5.44159695e-01 -3.84423875e-01 -1.00098607e+00  7.21722187e-01\n",
      "   2.43906866e-01 -2.62622706e-01  2.66535614e-01  1.16542162e+00\n",
      "  -8.06134014e-01 -1.29840823e+00  3.78676250e-01 -2.94117418e-01\n",
      "   5.60064767e-01 -6.84086192e-01 -2.41248183e+00  9.14137436e-02\n",
      "   5.89242830e-01 -1.09212037e+00 -5.27052170e-01 -1.88561900e-01\n",
      "   2.10557257e-01  1.13252393e+00  8.85770351e-01 -1.19028735e+00\n",
      "   4.24234978e-01 -2.83406182e-01 -1.58740983e+00  8.56190132e-01\n",
      "   7.43546395e-01  2.68051670e-01 -8.34727268e-01  5.39412314e-01\n",
      "  -5.95236153e-01 -9.51106917e-01  2.09712553e-01 -9.73398200e-01\n",
      "   6.89376539e-01  3.53404979e-01 -5.30304615e-02  5.57923556e-01\n",
      "   2.10561343e-01 -1.26820273e+00 -9.70968036e-01  3.11573160e-01\n",
      "  -1.64023641e+00 -3.80884841e-01 -1.30037453e+00 -2.03485790e+00\n",
      "   1.84087850e+00  6.80359392e-02 -3.46154252e-01  6.96126465e-01\n",
      "   7.09944333e-02 -6.42398152e-01 -3.45784802e-01 -2.19842294e+00\n",
      "  -1.23999312e+00  1.24086810e-01  5.28910124e-01  2.47518455e-01\n",
      "   3.19478270e-01  5.66616898e-01 -5.36089906e-01 -6.94724191e-01\n",
      "  -3.23136025e-01 -9.77192447e-01 -7.17915184e-01 -1.50495648e+00\n",
      "   5.08005241e-01  1.41356197e+00  1.77958934e+00 -4.72324250e-02\n",
      "  -3.65101358e-01  1.24011861e+00  4.36144432e-01 -2.03589898e-01\n",
      "  -8.92467827e-01  3.12437933e-01  9.83406325e-02  3.17493815e-01\n",
      "   1.39016929e+00 -2.48579901e-01  2.70442415e-02  1.80693820e+00\n",
      "   1.65736835e-01 -1.00623311e+00  8.11451545e-01  1.17741111e+00\n",
      "  -8.67986782e-01 -3.72521629e-01  2.54651577e-01 -4.01940572e-01\n",
      "  -8.58422753e-02  1.33418964e+00  1.49767191e+00  3.95155282e-01\n",
      "  -6.55516600e-01 -5.37141101e-01 -9.19647848e-01 -1.71579721e+00\n",
      "   8.82908758e-01  3.01388241e-01  3.04949564e-01  1.10236735e+00\n",
      "   1.09850816e+00 -3.64418549e-01 -1.99950110e-01  1.45683842e-01\n",
      "  -4.50325757e-01  9.09719605e-02 -6.41919031e-01  6.82112281e-02\n",
      "   1.17096490e+00  3.07243646e-01  9.69300767e-01  6.60341959e-01\n",
      "  -1.80716134e-01 -1.12322223e-01 -1.58462503e+00 -9.85041403e-01\n",
      "   1.16816021e+00  1.17970651e-01 -1.07273917e+00  9.09061448e-02\n",
      "  -4.55381168e-01  1.53279260e-01 -1.10139091e+00 -1.77700036e+00\n",
      "  -1.63249666e+00 -2.05855826e-01  8.48126141e-01 -1.45589742e+00\n",
      "  -5.52920916e-01  6.12642902e-01 -1.24560611e+00  6.97373621e-01\n",
      "  -2.30986704e+00 -2.31829171e-01 -6.90356683e-01  2.79568677e-01\n",
      "  -9.03693309e-01 -9.64187083e-01  1.08019278e+00  9.21881370e-01\n",
      "  -9.99120223e-02  2.92331599e-02 -9.19920297e-01  1.28880779e-01\n",
      "  -6.32869336e-01  9.97701767e-01 -8.46485138e-01  1.91305328e+00\n",
      "  -5.32957471e-03  8.05773893e-01 -5.58021747e-01 -1.69161021e-01\n",
      "   9.24708099e-01 -2.54531176e-01 -1.34386722e+00 -6.96329789e-01\n",
      "  -1.01894952e+00  9.32743003e-01  7.08355606e-01  2.99173088e-01\n",
      "   7.91399016e-01 -2.08209806e+00 -8.95400802e-01  1.24677432e+00\n",
      "  -8.17657745e-01 -1.48688395e+00 -7.21187006e-01 -8.06979052e-02\n",
      "   2.15851591e+00  1.01364009e-01  4.91752546e-01 -2.74736483e-01\n",
      "   2.46349305e-01  1.00813833e+00 -1.55974411e-01  1.78474076e-01\n",
      "   7.78499160e-01 -1.37991983e+00  1.73273875e+00  6.12761317e-01\n",
      "   6.53288510e-01  1.07594605e+00  1.69186967e+00  1.96106786e+00\n",
      "   6.56521056e-01  1.54849424e+00  9.77062405e-01  4.82221314e-01\n",
      "  -8.26473129e-01  1.08976412e+00 -1.33477856e+00  1.39351818e+00\n",
      "  -1.46791716e-01  6.15550408e-02 -3.12237064e-01 -2.18311285e-02\n",
      "   5.12597938e-01 -5.78698685e-02 -4.13202974e-01 -3.69069292e-01\n",
      "  -8.34869534e-01 -5.32656570e-01 -1.09370043e+00  3.82017922e-01\n",
      "  -1.48846688e+00 -1.74363200e-01  2.50316177e+00  6.68529936e-01\n",
      "  -2.47102846e-01 -3.95359752e-01  1.96430073e-02  6.59396946e-01\n",
      "   2.36865446e+00  1.45015349e+00  6.65813259e-01  1.00051955e+00\n",
      "  -1.92645249e+00  6.52443232e-01 -9.23635398e-01 -3.71274206e-01\n",
      "   9.24723609e-01  7.29680568e-02 -1.94624404e-01  6.06407095e-01\n",
      "  -1.02140879e+00  1.23107918e+00 -2.52627318e-01 -8.67094395e-01\n",
      "   1.48209497e+00 -6.86281300e-01 -1.06317841e+00 -7.03929313e-01\n",
      "   5.51118814e-01  1.35098960e+00 -3.02594339e-01 -9.33114537e-01\n",
      "  -1.41900427e-01 -2.36418533e+00 -1.27551396e+00 -1.64854513e+00\n",
      "   1.39523907e+00  6.02274735e-01 -1.19981428e+00  8.45006255e-01\n",
      "   1.11409315e+00  4.78652859e-01  7.18341176e-01 -7.98700664e-01\n",
      "  -1.03099345e+00 -6.92275287e-01 -1.00589446e+00  7.64356521e-01\n",
      "   4.91462809e-01 -9.08051604e-01 -1.56411011e-01  8.45238496e-02\n",
      "  -1.98876788e+00  4.59690184e-01  8.60485402e-01  5.99378957e-01\n",
      "  -1.13758389e+00 -2.07526783e-01 -1.69034202e+00 -1.27506034e+00\n",
      "  -8.16571386e-02  8.89984485e-01  1.18997459e+00 -3.56202377e-02\n",
      "  -1.03287775e+00 -7.36118132e-01  1.41094254e+00 -1.06656116e+00\n",
      "   1.59666415e-01  3.59975785e-02  7.37351453e-01  1.50824342e+00\n",
      "  -5.95535725e-01  2.06388090e+00 -1.57270868e-01  3.68516674e-01\n",
      "  -9.09532220e-01 -2.07373722e-01  2.20825239e+00  4.69823469e-01\n",
      "   6.36577829e-01 -7.53802215e-02  5.63588078e-02 -3.49087331e-01\n",
      "  -6.08094244e-01  1.18770018e+00  1.65412802e+00  1.98315584e-01\n",
      "  -9.41587686e-01  7.96791949e-01  7.63970326e-01 -9.89997481e-01\n",
      "  -1.07600576e+00  8.72058303e-01 -1.57502758e+00 -4.20508379e-01\n",
      "   1.24359171e+00  4.72777929e-02 -1.69315377e+00 -1.24507629e-01\n",
      "  -9.23747878e-01  1.41485594e-01 -1.23950068e-01 -1.97674523e+00\n",
      "  -5.01416179e-01 -4.09066010e-01 -2.70264403e-01  4.69321883e-02\n",
      "  -4.80876748e-01 -2.72242398e-01  1.90415833e-01 -6.78445841e-01\n",
      "  -1.24318680e+00 -8.75454802e-01 -1.08292422e+00 -3.52838220e-01\n",
      "   9.89396958e-01  1.48141594e+00  4.13907616e-02  9.18167221e-01\n",
      "  -1.89504927e+00 -2.96082558e-01  3.82849228e-01 -7.24735052e-01\n",
      "  -1.18990419e+00  8.72680541e-03  7.63218837e-01  2.14209636e+00\n",
      "   1.32958747e+00 -4.32359868e-01  6.17727443e-01 -2.23964219e+00\n",
      "   1.28219738e-01 -3.38866778e-01 -1.10298707e-01 -3.74303868e-01\n",
      "   2.10900573e-01 -1.15450454e+00  1.20499037e+00 -1.42062929e+00\n",
      "   8.69515130e-01  1.64924677e+00 -7.23939125e-02  6.68811649e-01\n",
      "   1.84904106e+00  8.25925044e-01  6.10495213e-01  7.93897306e-01\n",
      "   2.25604057e-01 -2.20725478e-01 -7.77182349e-01  1.28251334e+00\n",
      "   3.04823227e-01  7.15586374e-01 -4.27250004e-01 -4.21773154e-01\n",
      "   1.09889864e-01  3.43760579e-01 -3.18421461e-01  1.38017360e+00\n",
      "  -1.06545385e+00  4.66547754e-01 -1.10714401e+00  2.36104055e-01\n",
      "  -1.55024481e-01 -1.40569772e+00  1.86983588e+00 -1.72640507e+00\n",
      "   1.25157823e+00 -8.95537261e-01  1.21666409e+00 -3.94805051e-01\n",
      "  -3.02883342e-01  1.91988550e+00 -3.16894037e+00  5.04999340e-01\n",
      "   1.31133822e+00  1.03025755e-02  8.99197381e-01 -4.95980409e-01\n",
      "  -1.01769960e+00 -6.44263823e-01  4.85146944e-01 -7.09635879e-01\n",
      "   7.54975539e-01 -6.39096326e-01  1.80845523e+00  4.48491230e-01\n",
      "  -8.52854004e-02 -6.73576362e-01  4.78238887e-01 -1.09902912e+00\n",
      "   6.05242583e-01  5.18331064e-01  4.46678545e-01  2.03697317e-01\n",
      "   5.40916487e-01  8.81888228e-01 -1.39920800e+00 -2.05819519e+00\n",
      "  -1.68267724e+00 -1.42612249e+00 -5.05144501e-01  1.68017051e+00\n",
      "  -1.50520835e+00 -3.24164206e-01  1.33446056e+00 -5.66828867e-01\n",
      "  -1.82435002e-01  1.40596249e+00  2.54105185e-01 -7.55738516e-01\n",
      "  -4.68292472e-01 -3.13219703e-01  2.31238828e+00 -1.39335317e+00\n",
      "  -1.34950977e-01  1.61904865e+00 -1.91384198e-01  2.37399535e+00\n",
      "  -2.91931071e+00 -2.08402428e-01  1.40109029e+00 -1.09499024e+00\n",
      "  -1.15600249e+00 -5.72764260e-01 -9.66740809e-03  2.90612091e-01\n",
      "  -4.20893854e-01  4.40773119e-01 -1.45184803e+00 -5.99926047e-01\n",
      "   5.79814535e-01 -2.66269702e-01  2.47342443e+00  7.81420554e-01\n",
      "   9.42936367e-01 -7.01390612e-02 -2.01113089e-01 -1.84875330e+00\n",
      "  -1.48710133e+00 -2.19723986e+00 -2.95084160e-01  1.84341455e+00\n",
      "   5.94689019e-02  5.49259078e-01 -7.60826865e-01  1.21620654e-01\n",
      "  -9.61580341e-01 -1.39761505e+00 -1.38561761e-01  7.43812319e-01\n",
      "  -1.21786007e+00  3.96357532e-01  1.94064910e-01 -5.49792039e-01\n",
      "  -1.42944258e-02 -1.28769095e+00  1.29687455e+00 -1.25613866e+00\n",
      "  -2.48532594e+00 -1.46331938e+00  3.43811106e+00 -7.76882020e-01\n",
      "   6.40560993e-01 -1.22534941e+00  1.08585028e+00 -2.45528735e-01\n",
      "  -2.46657786e+00  5.29036125e-02  5.86546168e-01  1.69783933e-01\n",
      "  -3.98899624e-01 -9.74086455e-01  1.66810271e+00  7.05013618e-01\n",
      "   1.25317180e+00  6.60706539e-02  1.05095512e+00 -5.56264617e-02\n",
      "   1.23897649e-01  8.81325499e-01  1.67485718e+00 -8.39673840e-01\n",
      "   1.18481502e+00 -1.10534722e+00 -2.21228366e-01 -7.68810474e-01\n",
      "   4.31216881e-01  8.77556264e-01 -1.59429049e+00  6.95293523e-02\n",
      "   1.07013340e+00 -5.97344539e-01  9.48529029e-01  4.64290246e-01\n",
      "  -9.99933232e-02  1.12562234e+00  6.67100213e-01 -9.18349158e-01\n",
      "   9.18834075e-01 -2.54254021e-01 -1.79487088e-01  6.45110502e-01\n",
      "   8.14353353e-01  6.01418033e-01 -8.01347873e-01  1.37788550e-02\n",
      "   5.28825540e-01  1.39845721e+00 -9.43818041e-01 -4.31674848e-01\n",
      "  -2.79520686e-01  1.48330799e+00 -2.25426943e-01 -5.50400394e-02\n",
      "   3.79529483e-02 -4.75463799e-01 -7.83225810e-01 -7.88021826e-01\n",
      "   4.39769604e-01  5.31806269e-01 -6.00356091e-01 -5.82330160e-02\n",
      "  -1.63810130e-01 -7.96828040e-01  6.69660491e-01 -6.77277996e-02\n",
      "   1.43975913e+00 -6.61679696e-01 -7.36020274e-02 -1.03631080e+00\n",
      "   9.89454079e-01  7.00318881e-01  8.60616344e-01  6.62107883e-01\n",
      "   1.09390427e+00  5.63246558e-02  8.51036088e-01  8.15249634e-01\n",
      "  -6.81643366e-01  1.14821338e+00  1.07061297e+00  6.56946809e-01\n",
      "   7.12748835e-01  6.04429985e-01  2.08153379e+00 -1.11107754e+00\n",
      "   1.17661305e-01 -1.32972978e+00  4.75772946e-01 -7.40828596e-02\n",
      "  -1.10022431e+00  1.85510287e-01  4.70132339e-01 -2.04110149e+00\n",
      "   5.18538532e-01 -4.54717899e-01  8.38409369e-01  8.44190339e-02\n",
      "   1.07729674e+00  3.45492911e-01  6.00333659e-03  9.63616597e-01\n",
      "  -1.47925840e+00  1.63227044e+00 -2.16211737e-01  1.36603785e-01\n",
      "   5.65577648e-03  5.37081464e-01 -6.31416465e-02  1.67566586e+00\n",
      "  -5.50924722e-01 -1.08098765e-01 -3.63131280e-01  2.67299855e-02\n",
      "  -8.51067543e-01 -6.34051658e-01 -4.73618355e-01 -6.23761216e-01\n",
      "  -8.12502405e-01  2.48038160e+00 -2.30122583e-01 -3.47137701e-01\n",
      "  -5.07148213e-01  1.85749406e-01 -1.77107965e-01 -1.21587405e+00\n",
      "   3.74507129e-01 -7.89266963e-01 -6.26846811e-01  3.44693496e-01\n",
      "  -9.99373409e-01 -1.12979565e+00 -7.94932310e-01 -4.86883115e-01\n",
      "  -7.35956555e-01 -1.29620621e+00 -5.14722225e-01 -1.54090587e+00\n",
      "  -4.87132241e-01  2.24337459e+00  5.60292744e-01 -1.96131675e+00\n",
      "   2.02493151e+00 -8.69688135e-02  1.25183316e-01 -8.28595801e-02\n",
      "  -4.88532531e-01 -7.86189126e-01  7.58343423e-02 -1.76608888e+00\n",
      "  -1.33373325e+00 -8.83019021e-01 -3.35244284e-01  3.01086139e-01\n",
      "  -1.87054749e+00  3.81120589e-01 -9.83915239e-01 -6.42647146e-01\n",
      "   1.47122032e+00 -3.60359323e-01 -1.29903628e+00  6.96606946e-01\n",
      "  -3.87970384e-01 -4.80986107e-01 -2.48950160e-01  1.36856021e-01\n",
      "  -1.69880499e-01  5.60227921e-01  1.90911469e-01  7.20955751e-01\n",
      "   4.72119880e-01 -2.16324258e-01 -4.25966775e-01  2.33285938e+00\n",
      "  -5.19166137e-01  2.23138040e+00  2.54343854e-01 -2.98210992e-01\n",
      "   2.92799889e-01 -2.52455370e-01  3.86007180e-01  2.00363813e+00\n",
      "  -1.83239021e+00 -1.04263671e+00 -9.94229799e-01 -7.25775646e-01]]\n",
      "(1, 1000)\n"
     ]
    }
   ],
   "source": [
    "# We can also use numpy to generate random values.\n",
    "randn = np.random.randn(1, 1000)\n",
    "# print the shape of randn\n",
    "#print(randn) # Just 1000 elements\n",
    "print(randn.shape)\n",
    "#<------------INSERT CODE HERE------------>\n",
    "\n",
    "# print the first 10 elements of randn. What happens if you re-run this code?\n",
    "#<------------INSERT CODE HERE------------>\n"
   ]
  },
  {
   "cell_type": "code",
   "execution_count": 59,
   "metadata": {},
   "outputs": [
    {
     "name": "stdout",
     "output_type": "stream",
     "text": [
      "[[-0.36754812 -1.13745969]\n",
      " [-1.32214752  1.77225828]\n",
      " [-0.34745899  0.67014016]]\n",
      "\n",
      "[[ 0.32227152  0.06034293]\n",
      " [-1.04345    -1.00994188]\n",
      " [ 0.44173637  1.12887685]]\n",
      "\n",
      "[[ 0.66698806  0.02581308]\n",
      " [-0.77761941  0.94863382]\n",
      " [ 0.70167179 -1.05108156]]\n"
     ]
    }
   ],
   "source": [
    "rand1 = np.random.randn(3,2)\n",
    "print(rand1)\n",
    "print(\"\")\n",
    "rand2 = np.random.randn(3,2)\n",
    "print(rand2)\n",
    "print(\"\")\n",
    "np.random.seed(23)\n",
    "rand3 = np.random.randn(3,2)\n",
    "print(rand3)\n",
    "\n",
    "# Generate a new array of random numbers, this time of shape (3, 2) and print it.\n",
    "# What happens when you re-run the code now?\n",
    "# TIP: you might want to save the result to compare the previous and the new one\n",
    "\n",
    "#<------------INSERT CODE HERE------------>\n",
    "\n",
    "\n",
    "# Think: what does np.seed() do? (Use Google if you don't know!)"
   ]
  },
  {
   "cell_type": "markdown",
   "metadata": {},
   "source": [
    "#### Combine arrays"
   ]
  },
  {
   "cell_type": "code",
   "execution_count": 64,
   "metadata": {},
   "outputs": [
    {
     "name": "stdout",
     "output_type": "stream",
     "text": [
      "[[1 2 3 4]\n",
      " [1 2 3 4]\n",
      " [5 6 7 8]\n",
      " [5 6 7 8]]  axis=0\n",
      "\n",
      "[[1 2 3 4 5 6 7 8]\n",
      " [1 2 3 4 5 6 7 8]]  axis=1\n",
      "\n",
      "[[1 2 3 4]\n",
      " [1 2 3 4]\n",
      " [5 6 7 8]\n",
      " [5 6 7 8]]  vStack\n",
      "\n",
      "[[1 2 3 4 5 6 7 8]\n",
      " [1 2 3 4 5 6 7 8]]  hStack\n",
      "\n"
     ]
    }
   ],
   "source": [
    "arr1 = np.array([[1, 2, 3, 4], [1, 2, 3, 4]])\n",
    "arr2 = np.array([[5, 6, 7, 8], [5, 6, 7 , 8]])\n",
    "\n",
    "# Print the shapes of arr1 and arr2 and cat after each of the types of concatenations.\n",
    "# Concatenating arrays is a very common operation. Make sure you understand it!\n",
    "# TIP: it might help you to print the actual cat array after each type of concatenation too\n",
    "\n",
    "#<------------INSERT CODE HERE------------>\n",
    "\n",
    "\n",
    "# concatenate along the row\n",
    "cat = np.concatenate((arr1, arr2), axis=0)\n",
    "print(cat,\" axis=0\\n\")\n",
    "#<------------INSERT CODE HERE------------>\n",
    "\n",
    "\n",
    "# concatenate along the column\n",
    "cat = np.concatenate((arr1, arr2), axis=1)\n",
    "print(cat,\" axis=1\\n\")\n",
    "#<------------INSERT CODE HERE------------>\n",
    "\n",
    "\n",
    "# stack arrays vertically\n",
    "cat = np.vstack((arr1, arr2))\n",
    "print(cat,\" vStack\\n\")\n",
    "#<------------INSERT CODE HERE------------>\n",
    "\n",
    "# stack arrays horizontally\n",
    "cat = np.hstack((arr1, arr2))\n",
    "print(cat,\" hStack\\n\")\n",
    "#<------------INSERT CODE HERE------------>\n"
   ]
  },
  {
   "cell_type": "markdown",
   "metadata": {},
   "source": [
    "#### Operations with arrays"
   ]
  },
  {
   "cell_type": "code",
   "execution_count": null,
   "metadata": {},
   "outputs": [],
   "source": [
    "#Let's create a couple of vectors using numpy\n",
    "v1 = np.array([20, 30, 40, 50])\n",
    "v2 = np.arange(4)\n",
    "\n",
    "#And a couple of matrices\n",
    "mat1 = np.array([[1, 2, 3, 4], [1, 2, 3, 4]])\n",
    "mat2 = mat1.T # this is the transpose of mat1"
   ]
  },
  {
   "cell_type": "code",
   "execution_count": null,
   "metadata": {},
   "outputs": [],
   "source": [
    "# Add a number to an array of 1-D (i.e., a vector)\n",
    "print(5 + v1)\n",
    "# Compare the line above to your function vector_plus_num(vector, number) from Part 1.\n",
    "\n",
    "# Does your function work with matrices?\n",
    "\n",
    "# How do you add a number to a np.array object? Try adding 2367 to mat1\n",
    "\n",
    "#<------------INSERT CODE HERE------------>\n",
    "\n"
   ]
  },
  {
   "cell_type": "code",
   "execution_count": null,
   "metadata": {},
   "outputs": [],
   "source": [
    "# Let's try to add and subtract vectors now:\n",
    "print(\"Adding two vectors\", v1 + v2)\n",
    "print(\"Subtracting two vectors\", v1 - v2)\n",
    "\n",
    "# What happens if you try to add two vectors of different length?\n",
    "\n",
    "\n",
    "# Square root of each elemnt of v2:\n",
    "print(np.sqrt(v2))\n",
    "\n",
    "# Calculate the logarithm of each element of v1\n",
    "# TIP: check if you can do this using some numpy function!\n",
    "\n",
    "#<------------INSERT CODE HERE------------>\n",
    "\n"
   ]
  },
  {
   "cell_type": "markdown",
   "metadata": {},
   "source": [
    "### Multiplication of vectors\n",
    "\n",
    "There are a number of functions in numpy that you can use to multiply vectors and matrices.\n",
    "\n",
    "Scalar product of two vectors: np.dot(vector1, vector2)\n",
    "\n",
    "Vector product of two vectors: np.cross(x, y)"
   ]
  },
  {
   "cell_type": "code",
   "execution_count": null,
   "metadata": {},
   "outputs": [],
   "source": [
    "# Calculate the scalar product of v1 and v2 using your function from part 1 and the numpy function.\n",
    "#<------------INSERT CODE HERE------------>\n",
    "\n",
    "\n",
    "# Check if the result is the same using your function from Part 1\n",
    "\n",
    "#<------------INSERT CODE HERE------------>\n",
    "\n",
    "\n",
    "v3 = np.random.randn(4000)\n",
    "v4 = np.random.randn(4000)\n",
    "# Calculate the scalar product of v3 and v4 using your function from part 1 and the numpy function.\n",
    "# Compare the time it takes to execute each of them.\n",
    "# HINT: https://stackoverflow.com/questions/7370801/measure-time-elapsed-in-python\n",
    "\n",
    "#<------------INSERT CODE HERE------------>\n",
    "\n"
   ]
  },
  {
   "cell_type": "code",
   "execution_count": null,
   "metadata": {},
   "outputs": [],
   "source": [
    "# Calculate the vector product of v1 and v2 using the numpy function.\n",
    "\n",
    "#<------------INSERT CODE HERE------------>"
   ]
  },
  {
   "cell_type": "markdown",
   "metadata": {},
   "source": [
    "### Matrix multiplication\n",
    "\n",
    "This can be done on numpy using: np.matmul(a, b)"
   ]
  },
  {
   "cell_type": "code",
   "execution_count": null,
   "metadata": {},
   "outputs": [],
   "source": [
    "# Check the result of multiplying mat1 and mat2 using the numpy function and the one you created in part 1.\n",
    "# Check the execution time for each of them. Which one is faster? \n",
    "\n",
    "#<------------INSERT CODE HERE------------>\n",
    "\n",
    "# Is it the same result?\n",
    "\n",
    "#<------------INSERT CODE HERE------------>"
   ]
  },
  {
   "cell_type": "markdown",
   "metadata": {},
   "source": [
    "**Plotting a function**"
   ]
  },
  {
   "cell_type": "code",
   "execution_count": null,
   "metadata": {},
   "outputs": [],
   "source": [
    "import matplotlib.pyplot as plt"
   ]
  },
  {
   "cell_type": "code",
   "execution_count": null,
   "metadata": {},
   "outputs": [],
   "source": [
    "plt.figure()\n",
    "plt.plot(t, sin)\n",
    "plt.xlabel(\"Time\")\n",
    "plt.ylabel(\"sin(1/4*pi*t)\")\n",
    "plt.title(\"Sinusoidal function\")\n",
    "plt.show()"
   ]
  },
  {
   "cell_type": "code",
   "execution_count": null,
   "metadata": {},
   "outputs": [],
   "source": [
    "print(np.max(sin))\n",
    "print(np.min(sin))\n",
    "\n",
    "## Elementwise minimum and maximum\n",
    "arr1 = np.array([1, 3, 5, 7, 9])\n",
    "arr2 = np.array([0, 4, 3, 8, 7])\n",
    "print(np.maximum(arr1, arr2))\n",
    "print(np.minimum(arr1, arr2))"
   ]
  },
  {
   "cell_type": "code",
   "execution_count": null,
   "metadata": {
    "scrolled": true
   },
   "outputs": [],
   "source": [
    "# Statistical summaries \n",
    "\n",
    "print(np.mean(randn))\n",
    "print(np.median(randn))\n",
    "print(np.std(randn))\n",
    "\n"
   ]
  },
  {
   "cell_type": "markdown",
   "metadata": {},
   "source": [
    "Create a 5 (channels) x 100 (samples) matrix of random integers between 0 and 543 and retrieve the following information:\n",
    "    - the max, min, mean of all samples.\n",
    "    - the mean and variance of each channel\n"
   ]
  },
  {
   "cell_type": "code",
   "execution_count": null,
   "metadata": {},
   "outputs": [],
   "source": [
    "#<------------INSERT CODE HERE------------>"
   ]
  },
  {
   "cell_type": "markdown",
   "metadata": {},
   "source": [
    "Use the function hist() from matplotlib to show the histogram of values of the third channel."
   ]
  },
  {
   "cell_type": "code",
   "execution_count": null,
   "metadata": {},
   "outputs": [],
   "source": [
    "#<------------INSERT CODE HERE------------>"
   ]
  }
 ],
 "metadata": {
  "kernelspec": {
   "display_name": "Python 3",
   "language": "python",
   "name": "python3"
  },
  "language_info": {
   "codemirror_mode": {
    "name": "ipython",
    "version": 3
   },
   "file_extension": ".py",
   "mimetype": "text/x-python",
   "name": "python",
   "nbconvert_exporter": "python",
   "pygments_lexer": "ipython3",
   "version": "3.7.1"
  }
 },
 "nbformat": 4,
 "nbformat_minor": 2
}
